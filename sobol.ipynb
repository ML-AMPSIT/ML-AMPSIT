{
 "cells": [
  {
   "cell_type": "code",
   "execution_count": null,
   "metadata": {},
   "outputs": [],
   "source": [
    "######SOBOL SEQUENCE GENERATION\n",
    "\n",
    "import numpy as np\n",
    "from scipy.stats import qmc\n",
    "import glob\n",
    "import numpy as np\n",
    "import json\n",
    "\n",
    "with open('configAMPSIT.json') as config_file:\n",
    "    config = json.load(config_file)\n",
    "\n",
    "parameter_names = config['parameter_names']\n",
    "\n",
    "# Parameters\n",
    "DIM = len(parameter_names)\n",
    "start = 100000\n",
    "STEP = 1\n",
    "endsim = config['totalsim']\n",
    "\n",
    "# Generate Sobol sequence\n",
    "sobol_seq = qmc.Sobol(d=DIM, scramble=True)\n",
    "\n",
    "# Advance in the sequence until \"start\"\n",
    "sobol_seq.fast_forward(start)\n",
    "\n",
    "# Get the latest endsim samples\n",
    "p1 = np.array([sobol_seq.random() for _ in range(endsim)])\n",
    "\n",
    "# Re-scaling\n",
    "MATRIX =config['MATRIX']\n",
    "\n",
    "# Initialize MINN and MAXX with zeros\n",
    "MINN = np.zeros(len(MATRIX))\n",
    "MAXX = np.zeros(len(MATRIX))\n",
    "\n",
    "# Calculate MINN and MAXX\n",
    "for i in range(len(MATRIX)):\n",
    "    if MATRIX[i][0] < 0:\n",
    "        MINN[i] = MATRIX[i][0] + MATRIX[i][0] * MATRIX[i][1] / 100\n",
    "        MAXX[i] = MATRIX[i][0] - MATRIX[i][0] * MATRIX[i][1] / 100\n",
    "    else:\n",
    "        MINN[i] = MATRIX[i][0] - MATRIX[i][0] * MATRIX[i][1] / 100\n",
    "        MAXX[i] = MATRIX[i][0] + MATRIX[i][0] * MATRIX[i][1] / 100\n",
    "\n",
    "X = np.zeros((endsim, DIM))\n",
    "\n",
    "for i in range(DIM):\n",
    "    X[:, i] = p1[:, 0, i] * (MAXX[i] - MINN[i]) + MINN[i]\n",
    "\n",
    "np.savetxt(f'X_AMPSIT_{endsim}.txt', X, delimiter=' ', fmt='%0.5f')\n",
    "\n"
   ]
  }
 ],
 "metadata": {
  "kernelspec": {
   "display_name": "Python 3",
   "language": "python",
   "name": "python3"
  },
  "language_info": {
   "codemirror_mode": {
    "name": "ipython",
    "version": 3
   },
   "file_extension": ".py",
   "mimetype": "text/x-python",
   "name": "python",
   "nbconvert_exporter": "python",
   "pygments_lexer": "ipython3",
   "version": "3.10.6"
  }
 },
 "nbformat": 4,
 "nbformat_minor": 2
}
